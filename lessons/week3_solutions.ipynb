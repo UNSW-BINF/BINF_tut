{
 "cells": [
  {
   "cell_type": "markdown",
   "metadata": {},
   "source": [
    "## Q1: Test yourself!\n",
    "In your jupyter notebook, create new chunk for this question. In this chunk, write some code to access and print out the properties of the first two columns from the df variable."
   ]
  },
  {
   "cell_type": "code",
   "execution_count": null,
   "metadata": {},
   "outputs": [],
   "source": [
    "from palmerpenguins import load_penguins\n",
    "df = load_penguins()"
   ]
  },
  {
   "cell_type": "code",
   "execution_count": null,
   "metadata": {},
   "outputs": [],
   "source": [
    "print(df.columns)\n",
    "print(df['species']) \n",
    "len(df['species'])\n",
    "\n",
    "col_names = df.columns \n",
    "print(df[col_names[1]])"
   ]
  },
  {
   "cell_type": "markdown",
   "metadata": {},
   "source": [
    "## Q2: Test yourself!\n",
    "In your jupyter notebook, create new chunk for this question. In this chunk, write some code to create two variables m and n that are correlated to each other. You can do this by first creating values for m. If you remember from last week, we generated a single value with the random package. Here, we can use the numpy package to generate multiple numbers. e.g., m = np.random.normal(0,1,100), where 0 is the mean, 1 is the standard deviation, and 100 is the number of values to generate. To get correlated values n, we generate some \"noise\" (e.g, noise = np.random.normal(0,0.1,100)) and add that signal to m (assigning it to n). Then plot m versus n variables (don't forget the \"o\" variable!). Note how we decreased the standard deviation when generating the noise signal. See what happens when you play around with that value by increasing and decreasing it and plotting those two graphs again."
   ]
  },
  {
   "cell_type": "code",
   "execution_count": null,
   "metadata": {},
   "outputs": [],
   "source": [
    "import numpy as np \n",
    "import matplotlib.pyplot as plt\n",
    "import scipy.stats as sps\n",
    "\n",
    "sd = 0.5\n",
    "m = np.random.normal(0,1,100)\n",
    "noise = np.random.normal(0,sd,100)\n",
    "n = m + noise\n",
    "plt.plot(m, n, \"o\")\n",
    "\n",
    "z = sps.spearmanr(m, n)\n",
    "print(z)"
   ]
  },
  {
   "cell_type": "markdown",
   "metadata": {},
   "source": [
    "## Q3: Test yourself!\n",
    "In your jupyter notebook, create new chunk for this question. In this chunk, we will try to repeat similar plots with the iris dataset. Using the describe function, look at the variables in the iris dataset, and make a distribution plot for one of them. HINT, this dataset is part of the seaborn package: iris = sns.load_dataset(\"iris\")"
   ]
  },
  {
   "cell_type": "code",
   "execution_count": 7,
   "metadata": {},
   "outputs": [],
   "source": [
    "import numpy as np\n",
    "import pandas as pd\n",
    "import seaborn as sns\n",
    "import matplotlib as plt\n",
    "\n",
    "iris = sns.load_dataset(\"iris\")\n"
   ]
  },
  {
   "cell_type": "markdown",
   "metadata": {},
   "source": [
    "Look at it and make a distribution plot for one of the variables."
   ]
  },
  {
   "cell_type": "code",
   "execution_count": null,
   "metadata": {},
   "outputs": [],
   "source": [
    "display(iris)\n",
    "print(iris.columns)\n",
    "sns.histplot(iris['sepal_width'],kde=True,bins=20, color=\"purple\")"
   ]
  },
  {
   "cell_type": "code",
   "execution_count": null,
   "metadata": {},
   "outputs": [],
   "source": [
    "sns.histplot(iris['sepal_length'],kde=True,bins=20 )"
   ]
  },
  {
   "cell_type": "markdown",
   "metadata": {},
   "source": [
    "## Q4: Test yourself!\n",
    "In your jupyter notebook, create new chunk for this question. In this chunk, we will try to repeat similar plots with the iris dataset. Plot a multiple plot figure, with any variable in the iris dataset, across the four different plot types."
   ]
  },
  {
   "cell_type": "code",
   "execution_count": null,
   "metadata": {},
   "outputs": [],
   "source": [
    "import matplotlib.pyplot as pltt\n",
    "fig ,ax = pltt.subplots(figsize=(15,12), ncols=2,nrows=2)\n",
    "sns.swarmplot(data=iris,x='species',y='petal_width',ax=ax[0,0],hue='species')\n",
    "sns.violinplot(data=iris,x='species',y='petal_width',ax=ax[0,1])\n",
    "sns.boxplot(data=iris,x='species',y='petal_width',ax=ax[1,0])\n",
    "sns.barplot(data=iris,x='species',y='petal_width',ax=ax[1,1])\n",
    "pltt.show()"
   ]
  },
  {
   "cell_type": "markdown",
   "metadata": {},
   "source": [
    "Do a pairplot between all variables for the iris dataset."
   ]
  },
  {
   "cell_type": "code",
   "execution_count": null,
   "metadata": {},
   "outputs": [],
   "source": [
    "sns.pairplot(iris, palette=\"mako\", hue=\"species\")"
   ]
  },
  {
   "cell_type": "markdown",
   "metadata": {},
   "source": [
    "Plot a variable in the iris dataset with the four different plot types as shown above but with different colors."
   ]
  },
  {
   "cell_type": "code",
   "execution_count": null,
   "metadata": {},
   "outputs": [],
   "source": [
    "fig ,ax = pltt.subplots(figsize=(15,12), ncols=2,nrows=2)\n",
    "sns.swarmplot(data=iris,x='species',y='petal_width',ax=ax[0,0],hue='species', palette=\"mako\")\n",
    "sns.violinplot(data=iris,x='species',y='petal_width',ax=ax[0,1],hue='species', palette=\"rocket\")\n",
    "sns.boxplot(data=iris,x='species',y='petal_width',ax=ax[1,0],hue='species', palette=\"flare\")\n",
    "sns.barplot(data=iris,x='species',y='petal_width',ax=ax[1,1],hue='species')\n",
    "pltt.show()"
   ]
  }
 ],
 "metadata": {
  "kernelspec": {
   "display_name": "Python 3",
   "language": "python",
   "name": "python3"
  },
  "language_info": {
   "codemirror_mode": {
    "name": "ipython",
    "version": 3
   },
   "file_extension": ".py",
   "mimetype": "text/x-python",
   "name": "python",
   "nbconvert_exporter": "python",
   "pygments_lexer": "ipython3",
   "version": "3.11.9"
  },
  "orig_nbformat": 4
 },
 "nbformat": 4,
 "nbformat_minor": 2
}
