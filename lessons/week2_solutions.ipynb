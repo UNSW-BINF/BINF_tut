{
 "cells": [
  {
   "cell_type": "markdown",
   "metadata": {},
   "source": [
    "## Q1: Test yourself!\n",
    "In your jupyter notebook, create new chunk for this question. In this chunk, write some code where you assign your name to a variable called user. Then print out a sentence that reads \"This is my NAME codebook\", where NAME is replaced by your user text."
   ]
  },
  {
   "cell_type": "code",
   "execution_count": null,
   "metadata": {},
   "outputs": [],
   "source": [
    "user = \"Sara\"\n",
    "print( \"This is my \" + name + \" codebook\")"
   ]
  },
  {
   "cell_type": "markdown",
   "metadata": {},
   "source": [
    "## Q2: Test yourself!\n",
    "In your jupyter notebook, create new chunk for this question. In this chunk, start off by importing the \"random\" python package (i.e., import random). Then, write some code that assigns a random number to two variables (x and y) with the random.random() function. Then calculate the average value of these variables (x and y), and round the result to the nearest two decimal points. Assign that result to the variable z, and print it out."
   ]
  },
  {
   "cell_type": "code",
   "execution_count": null,
   "metadata": {},
   "outputs": [],
   "source": [
    "import random\n",
    "import math\n",
    "random.random()\n",
    "x = random.random() \n",
    "y = random.random() \n",
    "z = (x+y)/2\n",
    "print( round(z,2))"
   ]
  },
  {
   "cell_type": "markdown",
   "metadata": {},
   "source": [
    "## Q3: Test yourself!\n",
    "In your jupyter notebook, create new chunk for this question. In this chunk, copy the gene_list variable from the previous code to a new variable called gene_list_test. Add three random genes and remove the third gene in the list. Add a gene to the middle of the list."
   ]
  },
  {
   "cell_type": "code",
   "execution_count": null,
   "metadata": {},
   "outputs": [],
   "source": [
    "gene_list = [\"DDX11L1\",\"WASH7P\",\"MIR6859-1\",\"MIR1302-2HG\",\"MIR1302-2\",\"FAM138A\"]\n",
    "gene_list_test = gene_list.copy() \n",
    "\n",
    "gene_list_test.append([]\"BRCA2\", \"DMR5\", \"TAF1\"]) \n",
    "gene_list_test.remove(\"MIR6859-1\")\n",
    "\n",
    "mid_i = (len(gene_list_test) )/2 \n",
    "gene_list_test.insert(mid_i, \"IGFBP3\")"
   ]
  },
  {
   "cell_type": "markdown",
   "metadata": {},
   "source": [
    "## Q4: Test yourself!\n",
    "In your jupyter notebook, create new chunk for this question. Create a dictionary for gene expression of multiple genes for multiple samples. Call it gene_exp_dict. "
   ]
  },
  {
   "cell_type": "code",
   "execution_count": 1,
   "metadata": {},
   "outputs": [],
   "source": [
    "gene_exp_dict = {\"RAC1P\":[0,8,9,0,1],\"HM13\":[0,5,6,7,9],\"RPSAP9\":[3,0,1,9,0],\"MIR32\":[5,0,3,5,6],\"GTF3C2\":[0,6,2,5,67],\"RBPMS\":[0,5,43,2,1],\"MTHFSD\":[0,9,8,0,4],\"SCD5\":[0,4,4,5,76], \"CALM1P2\":[0,2,2,4,5,6]}"
   ]
  },
  {
   "cell_type": "markdown",
   "metadata": {},
   "source": [
    "Populate the dictionary with at least 10 genes for 5 samples."
   ]
  },
  {
   "cell_type": "code",
   "execution_count": 2,
   "metadata": {},
   "outputs": [
    {
     "name": "stdout",
     "output_type": "stream",
     "text": [
      "[1, 5, 6, 1, 2]\n",
      "dict_keys(['RAC1P', 'HM13', 'RPSAP9', 'MIR32', 'GTF3C2', 'RBPMS', 'MTHFSD', 'SCD5', 'CALM1P2', 'WASH7P'])\n",
      "dict_values([[0, 8, 9, 0, 1], [0, 0, 0, 0, 1], [3, 0, 1, 9, 0], [10, 21, 34, 0, 41], [0, 6, 2, 5, 67], [0, 5, 43, 2, 1], [0, 9, 8, 0, 4], [0, 4, 4, 5, 76], [0, 2, 2, 4, 5, 6], [1, 5, 6, 1, 2]])\n"
     ]
    }
   ],
   "source": [
    "gene_exp_dict[\"WASH7P\"] = [1,5,6,1,2]\n",
    "print(gene_exp_dict[\"WASH7P\"]) \n",
    "gene_exp_dict[\"HM13\"]  = [0,0,0,0,1]\n",
    "gene_exp_dict[\"MIR32\"]  = [10,21,34,0,41]\n",
    "\n",
    "print(gene_exp_dict.keys())\n",
    "print(gene_exp_dict.values())\n"
   ]
  },
  {
   "cell_type": "markdown",
   "metadata": {},
   "source": [
    "Write the code to get the gene expression for the 4th gene, 2nd sample.\n"
   ]
  },
  {
   "cell_type": "code",
   "execution_count": null,
   "metadata": {},
   "outputs": [],
   "source": [
    "print(gene_exp_dict[\"MIR32\"][1]) \n",
    "genes = list(gene_exp_dict.keys())\n",
    "gene_target = genes[3]\n",
    "sample_target = 1 \n",
    "print(gene_exp_dict[gene_target][sample_target])"
   ]
  }
 ],
 "metadata": {
  "kernelspec": {
   "display_name": "Python 3",
   "language": "python",
   "name": "python3"
  },
  "language_info": {
   "codemirror_mode": {
    "name": "ipython",
    "version": 3
   },
   "file_extension": ".py",
   "mimetype": "text/x-python",
   "name": "python",
   "nbconvert_exporter": "python",
   "pygments_lexer": "ipython3",
   "version": "3.11.5"
  },
  "orig_nbformat": 4
 },
 "nbformat": 4,
 "nbformat_minor": 2
}
